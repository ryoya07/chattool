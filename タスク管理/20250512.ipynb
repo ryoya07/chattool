{
 "cells": [
  {
   "cell_type": "markdown",
   "id": "5be5b40a",
   "metadata": {},
   "source": [
    "# 🛠️ 開発ログ：2025年5月12日（月）\n",
    "\n",
    "## ✅ 今日の目標（作業時間：約2時間）\n",
    "- 会員登録機能の改善（バリデーションとUX向上）\n",
    "- エラーメッセージ表示部分のUI調整\n",
    "- トークルーム機能の骨組み作成\n",
    "\n",
    "---\n",
    "\n",
    "## ✅ 今日やったこと\n",
    "\n",
    "### 🔧 バックエンド（Spring Boot）\n",
    "- `ChatRoom` エンティティを作成（`id`, `name`）\n",
    "- `ChatRoomRepository` を作成（JPAで保存操作対応）\n",
    "- `ChatRoomController` に以下のエンドポイントを追加\n",
    "  - POST `/chatrooms/create`：ルーム作成\n",
    "  - GET `/chatrooms`：ルーム一覧取得\n",
    "- CORS設定を追加して React との連携を許可\n",
    "\n",
    "### 💻 フロントエンド（React）\n",
    "- `ChatRoomForm`：ルーム作成フォームを実装（fetch → 作成完了表示）\n",
    "- `ChatRoomList`：ルーム一覧を取得・表示\n",
    "  - クリックで選択状態を表示する処理も追加\n",
    "- fetchエラー/URL間違い/CORSトラブルをデバッグして解決\n",
    "\n",
    "---\n",
    "\n",
    "## 📝 明日以降の予定\n",
    "- 選択したルームに遷移（チャット画面に入る）\n",
    "- ルームごとにメッセージを送受信できるようにする\n",
    "- WebSocket導入（リアルタイム化）\n",
    "- ログインユーザーとの連携整備（参加ルームの制限など）\n",
    "\n"
   ]
  }
 ],
 "metadata": {
  "language_info": {
   "name": "python"
  }
 },
 "nbformat": 4,
 "nbformat_minor": 5
}
