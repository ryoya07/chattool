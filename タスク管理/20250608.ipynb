{
 "cells": [
  {
   "cell_type": "markdown",
   "id": "4a8590cb",
   "metadata": {},
   "source": [
    "# 🛠️ 開発ログ：2025年6月8日（土）\n",
    "\n",
    "## ✅ 今日の目標（セキュリティ強化）\n",
    "\n",
    "- ユーザーやチャットAPIに対する最低限の認可制御を導入する\n",
    "- 認証されていないユーザーの不正アクセスを防ぐ\n",
    "- セキュリティ対策のテストを行い、安全性を確認する\n",
    "\n",
    "---\n",
    "\n",
    "## 📋 今日やったことリスト\n",
    "\n",
    "- [x] Spring Security を導入（`spring-boot-starter-security`）\n",
    "- [x] `SecurityConfig.java` を作成し、最低限のルール（Basic認証＋一部ルート許可）を設定\n",
    "- [x] H2 Console アクセス許可のセキュリティ設定追加（`frame-options.sameorigin`）\n",
    "- [x] `application.properties` をセキュリティ込みで整理\n",
    "- [x] PowerShell 上で `POST /messages/send` をテストし、**401エラーでブロックされることを確認**\n",
    "- [x] `GET /users` も認証無しではアクセスできないことを確認\n",
    "- [x] Spring Boot の自動データ永続化設定を把握＆確認（保存ファイルあり）\n",
    "\n",
    "---\n",
    "\n",
    "## 🧪 動作確認済みリスト\n",
    "\n",
    "- [x] 認証されていない curl/Postman リクエスト → 拒否（✅セキュリティ有効）\n",
    "- [x] ログインせずに `/users`, `/messages/send` にアクセス → 401エラー（期待通り）\n",
    "- [x] データベースが `chatdb.mv.db` に保存されていることを確認\n",
    "\n",
    "---\n",
    "\n",
    "## 🔜 明日以降の候補\n",
    "\n",
    "- [ ] ログイン済みユーザーに対してだけ操作可能にする（セッション or JWT 認証）\n",
    "- [ ] メッセージ削除・編集機能の実装\n",
    "- [ ] ユーザー権限（一般ユーザー / 管理者）によるアクセス制御\n",
    "- [ ] フロント側で未認証時の画面制御（リダイレクトや警告）\n"
   ]
  }
 ],
 "metadata": {
  "language_info": {
   "name": "python"
  }
 },
 "nbformat": 4,
 "nbformat_minor": 5
}
