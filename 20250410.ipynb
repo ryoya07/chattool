{
 "cells": [
  {
   "cell_type": "markdown",
   "id": "23ace760",
   "metadata": {},
   "source": [
    "# 🛠️ 開発ログ：2025年4月10日（木）\n",
    "\n",
    "## ✅ 今日の目標\n",
    "- Reactでログイン画面を実装し、見た目とレイアウトを完成させる\n",
    "\n",
    "---\n",
    "\n",
    "## 📋 今日やることリスト\n",
    "\n",
    "### ① Reactプロジェクト作成 & セットアップ\n",
    "- [✅] `create-react-app`（TypeScriptなし）で環境構築\n",
    "- [✅] `LoginForm.jsx` を `src/components` に作成\n",
    "- [✅] `App.js` に `LoginForm` を組み込み\n",
    "\n",
    "---\n",
    "\n",
    "### ② ログイン画面のUI実装\n",
    "- [✅] メール・パスワードの入力欄＋ログインボタン作成\n",
    "- [ ] ボタン押下で `console.log()` に出力されるよう実装（明日へ回す）\n",
    "- [✅] スタイリング（CSS）を `LoginForm.css` に分離\n",
    "- [✅] 入力欄・ボタン・枠の幅を調整\n",
    "\n",
    "---\n",
    "\n",
    "## 📝 気づき・学んだこと\n",
    "- `box-sizing: border-box` でレイアウトのズレを防げる\n",
    "- 初期CSS（`App.css`）は意外と邪魔になることがある\n",
    "- `height: 100vh` + flex で画面中央にぴったり配置できる\n",
    "\n",
    "---\n",
    "\n",
    "## ⏭ 明日以降のタスク候補（4/11〜）\n",
    "- [ ] ボタン押下時の `console.log()` 実装\n",
    "- [ ] 入力値をSpring BootにPOSTする処理を追加\n",
    "- [ ] ログイン認証APIをSpring側で実装（バリデーション含む）\n",
    "- [ ] 成功時にチャット画面へ遷移させる処理（`useNavigate`）\n"
   ]
  }
 ],
 "metadata": {
  "language_info": {
   "name": "python"
  }
 },
 "nbformat": 4,
 "nbformat_minor": 5
}
