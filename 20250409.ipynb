{
 "cells": [
  {
   "cell_type": "markdown",
   "id": "aa51cb2e",
   "metadata": {},
   "source": [
    "# 🛠️ 開発ログ：2025年4月9日（水）\n",
    "\n",
    "## ✅ 今日の目標（21:00〜22:00）\n",
    "- データベース構成を決定し、ER図を作成することでデータ設計の土台を完成させる\n",
    "\n",
    "---\n",
    "\n",
    "## 📋 今日やることリスト（1時間想定）\n",
    "\n",
    "### ① DB構成の最終チェック\n",
    "\n",
    "- [✅] 基本3テーブルのカラムを整理(users / chat_rooms / messages)\n",
    "- [ ] 拡張用カラム・テーブルの検討（既読、削除、返信、メンション）\n",
    "\n",
    "### ② ER図作成（使用ツール：draw.io）\n",
    "\n",
    "- [✅] users / chat_rooms / messages の関係図を作成\n",
    "- [✅] リレーション（1対多など）を明記\n",
    "- [✅] 簡単な説明を図に注釈として追加\n",
    "\n",
    "---\n",
    "\n",
    "## 📝 メモ・気づき\n",
    "\n",
    "- \n",
    "- \n",
    "- \n",
    "\n",
    "---\n",
    "\n",
    "## ⏭ 明日以降のタスク候補（4/10以降）\n",
    "\n",
    "- 技術スタックの決定（React or Vue / PostgreSQL）\n",
    "- Spring Bootプロジェクトの雛形作成（start.spring.io）\n",
    "- エンティティクラスの作成（JPA）\n",
    "- WebSocketの構成イメージ設計\n"
   ]
  }
 ],
 "metadata": {
  "language_info": {
   "name": "python"
  }
 },
 "nbformat": 4,
 "nbformat_minor": 5
}
